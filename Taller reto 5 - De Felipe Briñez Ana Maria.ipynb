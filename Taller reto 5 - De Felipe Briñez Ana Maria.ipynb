{
 "cells": [
  {
   "attachments": {},
   "cell_type": "markdown",
   "metadata": {},
   "source": [
    "RETO 5"
   ]
  },
  {
   "attachments": {},
   "cell_type": "markdown",
   "metadata": {},
   "source": [
    "Punto 1. Dado un número entero, determinar si ese número corresponde al código ASCII de una vocal minúscula."
   ]
  },
  {
   "cell_type": "code",
   "execution_count": null,
   "metadata": {},
   "outputs": [],
   "source": [
    "  n : int = int (input(\"Ingrese número entero: \"))\n",
    "if chr(n) ==\"a\" or chr(n) ==\"A\" or chr(n) ==\"E\" or chr(n) ==\"e\" or chr(n) ==\"i\" or chr(n) ==\"I\" or chr(n) ==\"o\" or chr(n) ==\"O\" or chr(n) ==\"u\" or chr(n) ==\"U\":\n",
    "    print (\"El número \" + str(n) + \" en ASCCI es una vocal. \" +  \"Es la vocal \" + chr(n))\n",
    "else: \n",
    "   print (\"El número \" + str(n) + \" en ASCCI no es una vocal \")\n",
    "print(chr(n))"
   ]
  },
  {
   "attachments": {},
   "cell_type": "markdown",
   "metadata": {},
   "source": [
    "Punto 2. Dada una cadena de longitud 1, determine si el código ASCII de primera letra de la cadena es par o no."
   ]
  },
  {
   "cell_type": "code",
   "execution_count": null,
   "metadata": {},
   "outputs": [],
   "source": [
    "s = input(\"Ingrese una palabra cualquiera, número o letra: \")\n",
    "x = (ord(s[0]))\n",
    "z = x%2\n",
    "if z==0: \n",
    "    print(\"La primer letra de la cadena en ASCCI es un número par. \")\n",
    "else: \n",
    "    print(\"La primer letra de la cadena en ASCCI es un número impar. \")\n",
    "print(\"Su código en ASCII es \" + str(x))\n",
    "print(\"El caracter ingresado fue \" + str(s))"
   ]
  },
  {
   "attachments": {},
   "cell_type": "markdown",
   "metadata": {},
   "source": [
    "Punto 3. Dado un carácter, construya un programa en Python para determinar si el carácter es un dígito o no."
   ]
  },
  {
   "cell_type": "code",
   "execution_count": null,
   "metadata": {},
   "outputs": [],
   "source": [
    "a = input(\"Ingrese caracter cualquiera: \")\n",
    "x = (ord(a[0]))\n",
    "if x>=0 and x<=9:\n",
    "    print(\"El carácter \" + str(a) + \" es un digito.\")\n",
    "else: \n",
    "    print(\"El carácter \" + str(a) + \" no es un digito\")\n",
    "print(x)"
   ]
  },
  {
   "attachments": {},
   "cell_type": "markdown",
   "metadata": {},
   "source": [
    "Punto 4. Dado un número real x, construya un programa que permita determinar si el número es positivo, negativo o cero."
   ]
  },
  {
   "cell_type": "code",
   "execution_count": null,
   "metadata": {},
   "outputs": [],
   "source": [
    "  n: float = float(input(\"Inserte número real: \"))\n",
    "if n > 0: \n",
    "    print(\"El número \" + str(n)+ \" es un número positivo.\")\n",
    "elif n == 0: \n",
    "    print(\"El número \" + str(n)+ \" es el neutro para la suma.\")\n",
    "elif n<0: \n",
    "    print(\"el número \" + str(n) + \" es un número negativo.\")"
   ]
  },
  {
   "attachments": {},
   "cell_type": "markdown",
   "metadata": {},
   "source": [
    "Punto 5. Dado el centro y el radio de un círculo, determinar si un punto de R2 pertenece o no al interior del círculo."
   ]
  },
  {
   "cell_type": "code",
   "execution_count": null,
   "metadata": {},
   "outputs": [],
   "source": [
    "radio:float=(input(\"Ingrese valor del radio: \"))\n",
    "x: float =(input(\"Ingrese coordenada en x del centro del circulo: \"))\n",
    "y: float =(input(\"Ingrese coordenada en y del centro del circulo: \"))\n",
    "a: float = (input(\"Ingrese coordenada x del punto: \"))\n",
    "b: float = (input(\"Ingrese coordenada y del punto:  \"))\n",
    "\n",
    "operación1: float = a-x \n",
    "operación2: float = operación1 **2 \n",
    "operación3: float = b-y\n",
    "operación4: float = operación3**2 \n",
    "operación5: float = operación2 + operación4\n",
    "operación6: float = operación5**5\n",
    "resultado: float == operación6\n",
    "\n",
    "if resultado<radio: \n",
    "    print(\"La coordenada \" + \"(\" + str(a) + \",\" + str(b) + \")\" + \" se encuentra dentro del circulo con centro en \" + \"(\" + str(x) + \",\" + str(y) + \")\" \" y un radio de \" + str(radio))\n",
    "else: \n",
    "    print(print(\"La coordenada \" + \"(\" + str(a) + \",\" + str(b) + \")\" + \" se encuentra afuera del circulo con centro en \" + \"(\" + str(x) + \",\" + str(y) + \")\" \" y un radio de \" + str(radio)))"
   ]
  },
  {
   "attachments": {},
   "cell_type": "markdown",
   "metadata": {},
   "source": [
    "Punto 6. Dadas tres longitudes positivas, determinar si con esas longitudes se puede construir un triángulo."
   ]
  },
  {
   "cell_type": "code",
   "execution_count": null,
   "metadata": {},
   "outputs": [],
   "source": [
    "a : float = float(input(\"Ingrese la longitud #1 de su triángulo: \")) \n",
    "b : float = float(input(\"Ingrese la longitud #2 de su triángulo: \"))\n",
    "c : float = float(input(\"Ingrese la longitud #3 de su triángulo: \"))\n",
    "\n",
    "if a+b > c  and b+c > a and a+c > b: \n",
    "    print(\"Con las longitudes \" + str(a) +  \", \" + str(b) + \", \" + str(c) + \" se puede construir un triángulo.\") \n",
    "else:\n",
    "    print(\"Con las longitudes \" + str(a) +  \", \" + str(b) + \", \" + str(c) + \" NO se puede construir un triángulo.\")"
   ]
  }
 ],
 "metadata": {
  "kernelspec": {
   "display_name": "Python 3",
   "language": "python",
   "name": "python3"
  },
  "language_info": {
   "name": "python",
   "version": "3.11.2"
  },
  "orig_nbformat": 4
 },
 "nbformat": 4,
 "nbformat_minor": 2
}
