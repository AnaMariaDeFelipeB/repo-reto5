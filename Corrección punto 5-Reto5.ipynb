{
 "cells": [
  {
   "attachments": {},
   "cell_type": "markdown",
   "metadata": {},
   "source": [
    "Corrección punto 5. "
   ]
  },
  {
   "cell_type": "code",
   "execution_count": null,
   "metadata": {},
   "outputs": [],
   "source": [
    "radio: float =float(input(\"Ingrese valor del radio: \"))\n",
    "x: float\n",
    "x= float(input(\"Ingrese coordenada en x del centro del circulo: \"))\n",
    "y: float \n",
    "y= float(input(\"Ingrese coordenada en y del centro del circulo: \"))\n",
    "a: float \n",
    "a= float(input(\"Ingrese coordenada x del punto: \"))\n",
    "b: float \n",
    "b= float(input(\"Ingrese coordenada y del punto:  \"))\n",
    "\n",
    "operación1: float = a-x\n",
    "operación2: float = operación1 **2 \n",
    "operación3: float = b-y\n",
    "operación4: float = operación3**2 \n",
    "operación5: float = operación2 + operación4\n",
    "operación6: float = operación5**5\n",
    "resultado: float \n",
    "resultado = operación6\n",
    "\n",
    "if resultado<radio: \n",
    "    print(\"La coordenada \" + \"(\" + str(a) + \",\" + str(b) + \")\" + \" se encuentra dentro del circulo con centro en \" + \"(\" + str(x) + \",\" + str(y) + \")\" \" y un radio de \" + str(radio))\n",
    "else: \n",
    "    print(print(\"La coordenada \" + \"(\" + str(a) + \",\" + str(b) + \")\" + \" se encuentra afuera del circulo con centro en \" + \"(\" + str(x) + \",\" + str(y) + \")\" \" y un radio de \" + str(radio)))"
   ]
  }
 ],
 "metadata": {
  "kernelspec": {
   "display_name": "Python 3",
   "language": "python",
   "name": "python3"
  },
  "language_info": {
   "codemirror_mode": {
    "name": "ipython",
    "version": 3
   },
   "file_extension": ".py",
   "mimetype": "text/x-python",
   "name": "python",
   "nbconvert_exporter": "python",
   "pygments_lexer": "ipython3",
   "version": "3.11.2"
  },
  "orig_nbformat": 4
 },
 "nbformat": 4,
 "nbformat_minor": 2
}
